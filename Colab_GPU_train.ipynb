{
 "cells": [
  {
   "cell_type": "markdown",
   "metadata": {
    "colab_type": "text",
    "id": "LqTGhZCUY1lX"
   },
   "source": [
    "# **Training your Machine Learining or AI model using Colab's GPU**\n",
    "Colab uses a powerful Nvidia Tesla K80 when you choose GPU for it's runtime environment. \n",
    "\n",
    "***Note:*** *Check 'Points to know' at bottom before using this method*"
   ]
  },
  {
   "cell_type": "markdown",
   "metadata": {
    "colab_type": "text",
    "id": "gtHQGcsXZWox"
   },
   "source": [
    "## How to Select GPU for your Colab Runtime?\n",
    "\n",
    "\n",
    "\n",
    "1.   Click on 'Runtime' on the top nav bar\n",
    "2.   Click on 'Change runtime type'\n",
    "3.   In hardware accelerator, choose 'Gpu' and click on save\n",
    "4.   Then, below the nav bar, where you have '+Code' & '+Text', check the connection whether you are connected to hosted runtime or not, if not, then just click on it and it will automatically connect and the from the point at which you connect, you will be alloted 12 hours max on the GPU for one session\n",
    "\n",
    "\n"
   ]
  },
  {
   "cell_type": "markdown",
   "metadata": {
    "colab_type": "text",
    "id": "OKHpMzm8E_GC"
   },
   "source": [
    "## Setting up Colab's GPU Training Environment"
   ]
  },
  {
   "cell_type": "markdown",
   "metadata": {
    "colab_type": "text",
    "id": "Ber5a3O_E-SU"
   },
   "source": [
    "### Setting up TensorFlow\n",
    "\n",
    "Check the tensorflow version, Colab uses latest Tensorflow, so install tensorflow version as per your requirement"
   ]
  },
  {
   "cell_type": "code",
   "execution_count": 0,
   "metadata": {
    "colab": {},
    "colab_type": "code",
    "id": "klKM7xclE-SL"
   },
   "outputs": [],
   "source": [
    "!pip3 install tensorflow==1.0.0"
   ]
  },
  {
   "cell_type": "markdown",
   "metadata": {
    "colab_type": "text",
    "id": "yyAN4bRBE-SK"
   },
   "source": [
    "Install TensorFlow GPU"
   ]
  },
  {
   "cell_type": "code",
   "execution_count": 0,
   "metadata": {
    "colab": {},
    "colab_type": "code",
    "id": "WBFeX89tE-SF"
   },
   "outputs": [],
   "source": [
    "!pip install tensorflow-gpu==1.0"
   ]
  },
  {
   "cell_type": "markdown",
   "metadata": {
    "colab_type": "text",
    "id": "HsDvIzuME-SD"
   },
   "source": [
    "### Setting up CUDA\n",
    "Remove the default CUDA version and install CUDA 8.0 as in our example, we are using TensorFlow 1.0.0 which is compatible with CUDA 8.0"
   ]
  },
  {
   "cell_type": "code",
   "execution_count": 0,
   "metadata": {
    "colab": {},
    "colab_type": "code",
    "id": "JpEKwMFuE-R8"
   },
   "outputs": [],
   "source": [
    "!apt-get remove cuda\n",
    "!apt-get autoremove cuda\n",
    "!apt-get purge cuda\n",
    "!apt-key del /var/cuda-repo-9-2-local/*.pub\n",
    "!rm -rf /var/cuda-repo-8-0-local-ga2/"
   ]
  },
  {
   "cell_type": "markdown",
   "metadata": {
    "colab_type": "text",
    "id": "FLpGXfV0E-R6"
   },
   "source": [
    "Installing CUDA 8.0 for our TensorFlow 1.0.0 version"
   ]
  },
  {
   "cell_type": "code",
   "execution_count": 0,
   "metadata": {
    "colab": {},
    "colab_type": "code",
    "id": "eR8Vuc8WE-Rz"
   },
   "outputs": [],
   "source": [
    "!wget https://developer.download.nvidia.com/compute/cuda/repos/ubuntu1604/x86_64/cuda-repo-ubuntu1604_8.0.61-1_amd64.deb\n",
    "!dpkg -i --force-overwrite cuda-repo-ubuntu1604_8.0.61-1_amd64.deb\n",
    "!apt-get update\n",
    "!apt-get install cuda-8-0"
   ]
  },
  {
   "cell_type": "markdown",
   "metadata": {
    "colab_type": "text",
    "id": "fGNT-hRVFXW8"
   },
   "source": [
    "Overwriting any missing files for CUDA 8.0"
   ]
  },
  {
   "cell_type": "code",
   "execution_count": 0,
   "metadata": {
    "colab": {},
    "colab_type": "code",
    "id": "a2Ocz0drFhIS"
   },
   "outputs": [],
   "source": [
    "!wget http://archive.ubuntu.com/ubuntu/pool/main/m/mesa/libglx-mesa0_18.0.5-0ubuntu0~18.04.1_amd64.deb\n",
    "!dpkg -i --force-overwrite libglx-mesa0_18.0.5-0ubuntu0~18.04.1_amd64.deb"
   ]
  },
  {
   "cell_type": "markdown",
   "metadata": {
    "colab_type": "text",
    "id": "NKvTzYAhE-Rx"
   },
   "source": [
    "Verify CUDA Installation"
   ]
  },
  {
   "cell_type": "code",
   "execution_count": 0,
   "metadata": {
    "colab": {},
    "colab_type": "code",
    "id": "Ynnvmc5lE-Ra"
   },
   "outputs": [],
   "source": [
    "!apt --fix-broken install\n",
    "!apt-get install cuda-8-0"
   ]
  },
  {
   "cell_type": "markdown",
   "metadata": {
    "colab_type": "text",
    "id": "uttOJySOE-RZ"
   },
   "source": [
    "### Upload Files"
   ]
  },
  {
   "cell_type": "code",
   "execution_count": 0,
   "metadata": {
    "colab": {},
    "colab_type": "code",
    "id": "ZxXElVLaE-RS"
   },
   "outputs": [],
   "source": [
    "from google.colab import files\n",
    "uploaded = files.upload()"
   ]
  },
  {
   "cell_type": "markdown",
   "metadata": {
    "colab_type": "text",
    "id": "LkJQh8mnE-RP"
   },
   "source": [
    "### Run .py File"
   ]
  },
  {
   "cell_type": "code",
   "execution_count": 0,
   "metadata": {
    "colab": {},
    "colab_type": "code",
    "id": "YyrhLXRHE-RB"
   },
   "outputs": [],
   "source": [
    "!python filename.py"
   ]
  },
  {
   "cell_type": "markdown",
   "metadata": {
    "colab_type": "text",
    "id": "S-2AtgK3dRYQ"
   },
   "source": [
    "## Points to know\n",
    "\n",
    "\n",
    "*   You are alloted only 12 hours of time per runtime(session)\n",
    "\n",
    "*   If you choose to upload files using above cell, then it will store the files in the runtime. When the runtime terminates, your files will also be deleted. So, make sure to download the files or checkpoints before the runtime terminates.\n",
    "\n",
    "*   If no cell is executing, then the tab in which your Colab is opened is considered idle and hence it gets terminated after 1.5 hours due to inactivity.\n",
    "\n",
    "\n",
    "*   You can run a maximum of 2 runtimes only.\n",
    "\n",
    "\n",
    "\n"
   ]
  }
 ],
 "metadata": {
  "colab": {
   "collapsed_sections": [],
   "name": "Colab-GPU_train.ipynb",
   "provenance": []
  },
  "kernelspec": {
   "display_name": "Python 3",
   "language": "python",
   "name": "python3"
  },
  "language_info": {
   "codemirror_mode": {
    "name": "ipython",
    "version": 3
   },
   "file_extension": ".py",
   "mimetype": "text/x-python",
   "name": "python",
   "nbconvert_exporter": "python",
   "pygments_lexer": "ipython3",
   "version": "3.7.6"
  }
 },
 "nbformat": 4,
 "nbformat_minor": 1
}
